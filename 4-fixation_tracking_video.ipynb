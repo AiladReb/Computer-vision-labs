{
 "cells": [
  {
   "cell_type": "code",
   "execution_count": 285,
   "metadata": {},
   "outputs": [],
   "source": [
    "import numpy as np\n",
    "import tensorflow as tf\n",
    "import matplotlib.pyplot as plt\n",
    "import glob\n",
    "import cv2 \n",
    "import random"
   ]
  },
  {
   "cell_type": "code",
   "execution_count": 3,
   "metadata": {},
   "outputs": [
    {
     "name": "stderr",
     "output_type": "stream",
     "text": [
      "Using TensorFlow backend.\n"
     ]
    }
   ],
   "source": [
    "from tensorflow import keras\n",
    "from tensorflow.keras import layers\n",
    "from tensorflow.keras.models import Sequential\n",
    "from tensorflow.keras import preprocessing\n",
    "from keras.preprocessing.image import ImageDataGenerator"
   ]
  },
  {
   "cell_type": "code",
   "execution_count": 286,
   "metadata": {},
   "outputs": [],
   "source": [
    "from sklearn.metrics import f1_score\n",
    "from sklearn.metrics import recall_score\n",
    "from sklearn.metrics import precision_score\n"
   ]
  },
  {
   "cell_type": "markdown",
   "metadata": {},
   "source": [
    "# Detect mobile objects using Background Substraction"
   ]
  },
  {
   "cell_type": "code",
   "execution_count": 4,
   "metadata": {},
   "outputs": [],
   "source": [
    "def object_moving_detection(video_seq):\n",
    "    # Create a VideoCapture object\n",
    "    cap = cv2.VideoCapture(video_seq)\n",
    " \n",
    "    # Create the background subtractor object\n",
    "    # Use the last 200 video frames to build the background    \n",
    "    back_sub = cv2.createBackgroundSubtractorMOG2(history=200, detectShadows=False)\n",
    " \n",
    "    # Create kernel for morphological operation\n",
    "    # You can tweak the dimensions of the kernel\n",
    "    # e.g. instead of 20,20 you can try 30,30.\n",
    "    kernel = np.ones((20,20),np.uint8)\n",
    "    \n",
    "    \n",
    "\n",
    "    while(cap.isOpened()):\n",
    " \n",
    "        ret, frame_col = cap.read()\n",
    "    \n",
    "        if ret : \n",
    "    \n",
    "            frame = cv2.cvtColor(frame_col, cv2.COLOR_BGR2GRAY)\n",
    "            frame = cv2.GaussianBlur(frame, (3, 3), 0)\n",
    "\n",
    "            # Use every frame to calculate the foreground mask and update\n",
    "            # the background\n",
    "            fg_mask = back_sub.apply(frame)\n",
    "\n",
    "            # Close dark gaps in foreground object using closing\n",
    "            fg_mask = cv2.morphologyEx(fg_mask, cv2.MORPH_CLOSE, kernel)\n",
    "\n",
    "            # Remove salt and pepper noise with a median filter\n",
    "            fg_mask = cv2.medianBlur(fg_mask, 5) \n",
    "\n",
    "            # Threshold the image to make it either black or white\n",
    "            _, fg_mask = cv2.threshold(fg_mask,127,255,cv2.THRESH_BINARY)\n",
    "\n",
    "            # Find the index of the largest contour and draw bounding box\n",
    "            fg_mask_bb = fg_mask\n",
    "\n",
    "            contours, hierarchy = cv2.findContours(fg_mask_bb,cv2.RETR_TREE,cv2.CHAIN_APPROX_SIMPLE)\n",
    "\n",
    "\n",
    "            areas = [cv2.contourArea(c) for c in contours]\n",
    "\n",
    "            # If there are no countours\n",
    "            if len(areas) < 1:\n",
    "\n",
    "                # Display the resulting frame\n",
    "                cv2.imshow('frame',frame)\n",
    "\n",
    "                # If \"q\" is pressed on the keyboard, \n",
    "                # exit this loop\n",
    "                if cv2.waitKey(1) & 0xFF == ord('q'):\n",
    "                    break\n",
    "\n",
    "                # Go to the top of the while loop\n",
    "                continue\n",
    "\n",
    "            else:\n",
    "                # Find the largest moving object in the image\n",
    "                max_index = np.argmax(areas)\n",
    "\n",
    "            # Draw the bounding box\n",
    "            cnt = contours[max_index]\n",
    "            x,y,w,h = cv2.boundingRect(cnt)\n",
    "            cv2.rectangle(frame_col,(x,y),(x+w,y+h),(0,255,0),3)\n",
    "\n",
    "\n",
    "\n",
    "            # Display the resulting frame\n",
    "            cv2.imshow('frame',frame_col)\n",
    "\n",
    "            # If \"q\" is pressed on the keyboard, \n",
    "            # exit this loop\n",
    "            if cv2.waitKey(25) & 0xFF == ord('q'):\n",
    "                break\n",
    "        else:\n",
    "            break\n",
    "\n",
    "        # Close down the video stream\n",
    "    cap.release()\n",
    "    cv2.destroyAllWindows()\n",
    " \n"
   ]
  },
  {
   "cell_type": "code",
   "execution_count": null,
   "metadata": {},
   "outputs": [],
   "source": [
    "folders = glob.glob(\".\\AVDIAR_ALL\\*\")\n",
    "\n",
    "for folder in folders[:2]:\n",
    "\n",
    "    video_seq = glob.glob(folder+\"\\Video\\*1.mp4\")  \n",
    "\n",
    "    object_moving_detection(video_seq[0])\n",
    "    \n"
   ]
  },
  {
   "cell_type": "markdown",
   "metadata": {},
   "source": [
    "# 2. Comparing MLP with the GT of AVDIAR Dataset using IOU"
   ]
  },
  {
   "cell_type": "code",
   "execution_count": 27,
   "metadata": {},
   "outputs": [],
   "source": [
    "def coord_random_rectangle(face_box, image_shape):\n",
    "    \n",
    "    x1, y1, x2, y2 = face_box \n",
    "    \n",
    "    xi1 = random.randint(0, image_shape[1] - (x2 - x1))\n",
    "    yi1 = random.randint(0, image_shape[0] - (y2 - y1))\n",
    "    \n",
    "    \n",
    "    xi2 = xi1 + (x2 - x1)\n",
    "    yi2 = yi1 + (y2 - y1)\n",
    "    \n",
    "    return (xi1,  yi1, xi2, yi2)"
   ]
  },
  {
   "cell_type": "code",
   "execution_count": 30,
   "metadata": {},
   "outputs": [],
   "source": [
    "def intersection_over_union(current_face_box, random_rectangle ):\n",
    "    \n",
    "    l1, t1, r1, b1 =  current_face_box\n",
    "    l2, t2, r2, b2 =  random_rectangle\n",
    "    \n",
    "    \n",
    "    li = max(l1, l2)\n",
    "    ti = max(t1, t2)\n",
    "    ri = min(r1, r2)\n",
    "    bi = min(b1, b2)\n",
    "    \n",
    "    inter = max(ri-li+1, 0)*max(bi-ti+1,0)\n",
    "    \n",
    "    area1 = (r1-l1+1)*(b1-t1+1)\n",
    "    area2 = (r2-l2+1)*(b2-t2+1)\n",
    "    union =  area1 + area2 - inter \n",
    "    \n",
    "    \n",
    "    return inter/union"
   ]
  },
  {
   "cell_type": "code",
   "execution_count": 31,
   "metadata": {},
   "outputs": [],
   "source": [
    "def window_background(current_face_box, image_shape, face_boxes, iou_threshold ):\n",
    "\n",
    "    while True:\n",
    "        \n",
    "        iou = 0\n",
    "        \n",
    "        random_rectangle = coord_random_rectangle(current_face_box, image_shape)\n",
    "        \n",
    "        for face_box in face_boxes: \n",
    "            iou = max(intersection_over_union(face_box, random_rectangle ), iou)\n",
    "        \n",
    "        if iou < iou_threshold:\n",
    "            break\n",
    "            \n",
    "    return random_rectangle\n",
    "        \n",
    "        "
   ]
  },
  {
   "cell_type": "markdown",
   "metadata": {},
   "source": [
    "# 2.1 Save backs and the detected faces in video seq available in the GT "
   ]
  },
  {
   "cell_type": "code",
   "execution_count": null,
   "metadata": {
    "scrolled": false
   },
   "outputs": [],
   "source": [
    "folders = glob.glob(\".\\AVDIAR_ALL\\*\")\n",
    "color = (0, 255, 0)\n",
    "thickness = 3\n",
    "\n",
    "cptfaces = 0\n",
    "cptbackground = 0\n",
    "\n",
    "print(len(folders))\n",
    "for ind, folder in enumerate(folders):\n",
    "    print(ind)\n",
    "    video_seq = glob.glob(folder+\"\\Video\\*1.mp4\")\n",
    "\n",
    "    cap = cv2.VideoCapture(video_seq[0])\n",
    "    \n",
    "    cpt = 0\n",
    "    \n",
    "    with open(folder+'\\GroundTruth\\\\face_bb.txt') as file:\n",
    "        \n",
    "        line = file.readline().strip(\"\\n\")\n",
    "        frame_info =  [int(float(i)) for i in line.split(\",\")[:6]]\n",
    "        \n",
    "        while(True):\n",
    "                \n",
    "                 # Capture frame-by-framea\n",
    "                ret, frame = cap.read() \n",
    "                \n",
    "                if ret: \n",
    "                    face_boxes = []\n",
    "                    \n",
    "                    while frame_info[0] == cpt  : \n",
    "                        \n",
    "                        top, left  = (frame_info[2], frame_info[3])\n",
    "                        bottom, right = (top + frame_info[4], left + frame_info[5])\n",
    "\n",
    "                        #frame = cv2.rectangle(frame, (top, left), (bottom, right), color, thickness)\n",
    "                        \n",
    "                        face = frame[left:right, top:bottom]\n",
    "                        \n",
    "                        cv2.imwrite(\"./DatasetAVDIAR/faces/\"+str(cptfaces)+'.jpg', face)\n",
    "                        cptfaces += 1                        \n",
    "                        \n",
    "                        face_boxes.append((top, left, bottom, right))\n",
    "                        \n",
    "                        line = file.readline().strip(\"\\n\")\n",
    "                        \n",
    "                        if not line : \n",
    "                            break\n",
    "                        frame_info =  [int(float(i)) for i in line.split(\",\")[:6]]\n",
    "                            \n",
    "                    #plt.imshow(frame)\n",
    "                    #plt.show()\n",
    "                   \n",
    "                    for face_box in face_boxes:\n",
    "                     \n",
    "                        t, l, b, r = window_background( face_box , frame.shape, face_boxes, 0.05)\n",
    "                        background = frame[l:r, t:b]\n",
    "                        cv2.imwrite(\"./DatasetAVDIAR/background/\"+str(cptbackground)+'.jpg', background)\n",
    "                        cptbackground += 1\n",
    "                       \n",
    "                        \n",
    "\n",
    "                    #cv2.imshow('frame',frame)\n",
    "                    cpt += 1\n",
    "\n",
    "                    if cv2.waitKey(25) & 0xFF == ord('q'):\n",
    "                        break\n",
    "                else:\n",
    "                    break\n",
    "                    \n",
    "    cap.release()\n",
    "    cv2.destroyAllWindows()\n",
    "    \n",
    "   \n",
    "\n",
    "    "
   ]
  },
  {
   "cell_type": "code",
   "execution_count": null,
   "metadata": {},
   "outputs": [],
   "source": [
    "folders = glob.glob(\".\\AVDIAR_ALL\\*\")\n",
    "\n",
    "for ind, folder in enumerate(folders):\n",
    " \n",
    "    video_seq = glob.glob(folder+\"\\Video\\*1.mp4\")  \n",
    "\n",
    "    face_detection_violaJones(video_seq[0])"
   ]
  },
  {
   "cell_type": "markdown",
   "metadata": {},
   "source": [
    "# 2.2 Build and train model MLP with faces and backs saved"
   ]
  },
  {
   "cell_type": "code",
   "execution_count": 46,
   "metadata": {},
   "outputs": [
    {
     "name": "stdout",
     "output_type": "stream",
     "text": [
      "Found 143762 files belonging to 2 classes.\n",
      "Using 115010 files for training.\n",
      "Found 143762 files belonging to 2 classes.\n",
      "Using 28752 files for validation.\n"
     ]
    }
   ],
   "source": [
    "height = 32\n",
    "width = 32\n",
    "img_window = (height, width, 3)\n",
    "epochs = 20\n",
    "\n",
    "train_ds = preprocessing.image_dataset_from_directory(\n",
    "    directory = './DatasetAVDIAR/',\n",
    "    validation_split=0.2,\n",
    "    labels=\"inferred\",\n",
    "    label_mode='categorical',    \n",
    "    color_mode=\"rgb\",\n",
    "    subset=\"training\",\n",
    "    class_names = ['background', \"faces\"],\n",
    "    batch_size=256,\n",
    "    image_size=(height, width),\n",
    "    shuffle=True,\n",
    "    seed = 0,\n",
    "    \n",
    ")\n",
    "\n",
    "validation_ds = preprocessing.image_dataset_from_directory(\n",
    "    directory = './DatasetAVDIAR/',\n",
    "    validation_split=0.2,\n",
    "    labels=\"inferred\",\n",
    "    label_mode='categorical' ,    \n",
    "    color_mode=\"rgb\",\n",
    "    class_names = ['background', \"faces\"],\n",
    "    subset=\"validation\",\n",
    "    batch_size=512,\n",
    "    image_size=(height, width),\n",
    "    shuffle=True,\n",
    "    seed = 0,\n",
    "    \n",
    ")\n",
    "\n"
   ]
  },
  {
   "cell_type": "code",
   "execution_count": 25,
   "metadata": {},
   "outputs": [],
   "source": [
    "checkpointer = tf.keras.callbacks.ModelCheckpoint(filepath='model_acc_videoSeq.hdf5', monitor='val_accuracy',verbose=1, save_weights_only=False,save_best_only=True)"
   ]
  },
  {
   "cell_type": "code",
   "execution_count": 26,
   "metadata": {},
   "outputs": [],
   "source": [
    "\n",
    "nbr_units = height*width*3\n",
    "\n",
    "model = Sequential([\n",
    "  \n",
    "  layers.experimental.preprocessing.Rescaling(1./255),\n",
    "  layers.Input(shape = img_window),\n",
    "  layers.Flatten(),  \n",
    "  layers.Dense(1024, kernel_initializer='he_uniform',  activation = 'relu'),\n",
    "  layers.Dense(512, kernel_initializer='he_uniform',  activation = 'relu'),\n",
    "  layers.Dense(2, activation = 'softmax')\n",
    "])\n",
    "\n",
    "\n",
    "model.compile(loss = 'categorical_crossentropy', optimizer = \"adam\", metrics=['accuracy', \"AUC\"])\n"
   ]
  },
  {
   "cell_type": "code",
   "execution_count": 48,
   "metadata": {
    "scrolled": true
   },
   "outputs": [
    {
     "name": "stdout",
     "output_type": "stream",
     "text": [
      "Epoch 1/20\n",
      "450/450 [==============================] - ETA: 0s - loss: 0.1742 - accuracy: 0.9481 - auc: 0.9838\n",
      "Epoch 00001: val_accuracy did not improve from 0.99391\n",
      "450/450 [==============================] - 109s 243ms/step - loss: 0.1742 - accuracy: 0.9481 - auc: 0.9838 - val_loss: 0.0639 - val_accuracy: 0.9813 - val_auc: 0.9964\n",
      "Epoch 2/20\n",
      "450/450 [==============================] - ETA: 0s - loss: 0.0578 - accuracy: 0.9832 - auc: 0.9967\n",
      "Epoch 00002: val_accuracy did not improve from 0.99391\n",
      "450/450 [==============================] - 108s 240ms/step - loss: 0.0578 - accuracy: 0.9832 - auc: 0.9967 - val_loss: 0.0509 - val_accuracy: 0.9852 - val_auc: 0.9970\n",
      "Epoch 3/20\n",
      "450/450 [==============================] - ETA: 0s - loss: 0.0424 - accuracy: 0.9874 - auc: 0.9980\n",
      "Epoch 00003: val_accuracy did not improve from 0.99391\n",
      "450/450 [==============================] - 109s 243ms/step - loss: 0.0424 - accuracy: 0.9874 - auc: 0.9980 - val_loss: 0.0389 - val_accuracy: 0.9889 - val_auc: 0.9979\n",
      "Epoch 4/20\n",
      "450/450 [==============================] - ETA: 0s - loss: 0.0370 - accuracy: 0.9890 - auc: 0.9983\n",
      "Epoch 00004: val_accuracy did not improve from 0.99391\n",
      "450/450 [==============================] - 109s 243ms/step - loss: 0.0370 - accuracy: 0.9890 - auc: 0.9983 - val_loss: 0.0355 - val_accuracy: 0.9904 - val_auc: 0.9980\n",
      "Epoch 5/20\n",
      "450/450 [==============================] - ETA: 0s - loss: 0.0309 - accuracy: 0.9911 - auc: 0.9986\n",
      "Epoch 00005: val_accuracy did not improve from 0.99391\n",
      "450/450 [==============================] - 110s 244ms/step - loss: 0.0309 - accuracy: 0.9911 - auc: 0.9986 - val_loss: 0.0309 - val_accuracy: 0.9917 - val_auc: 0.9983\n",
      "Epoch 6/20\n",
      "450/450 [==============================] - ETA: 0s - loss: 0.0284 - accuracy: 0.9916 - auc: 0.9988\n",
      "Epoch 00006: val_accuracy did not improve from 0.99391\n",
      "450/450 [==============================] - 112s 249ms/step - loss: 0.0284 - accuracy: 0.9916 - auc: 0.9988 - val_loss: 0.0522 - val_accuracy: 0.9837 - val_auc: 0.9973\n",
      "Epoch 7/20\n",
      "450/450 [==============================] - ETA: 0s - loss: 0.0264 - accuracy: 0.9923 - auc: 0.9989\n",
      "Epoch 00007: val_accuracy did not improve from 0.99391\n",
      "450/450 [==============================] - 108s 241ms/step - loss: 0.0264 - accuracy: 0.9923 - auc: 0.9989 - val_loss: 0.0312 - val_accuracy: 0.9913 - val_auc: 0.9986\n",
      "Epoch 8/20\n",
      "450/450 [==============================] - ETA: 0s - loss: 0.0220 - accuracy: 0.9937 - auc: 0.9991\n",
      "Epoch 00008: val_accuracy did not improve from 0.99391\n",
      "450/450 [==============================] - 109s 242ms/step - loss: 0.0220 - accuracy: 0.9937 - auc: 0.9991 - val_loss: 0.0297 - val_accuracy: 0.9924 - val_auc: 0.9982\n",
      "Epoch 9/20\n",
      "450/450 [==============================] - ETA: 0s - loss: 0.0221 - accuracy: 0.9935 - auc: 0.9991\n",
      "Epoch 00009: val_accuracy did not improve from 0.99391\n",
      "450/450 [==============================] - 109s 243ms/step - loss: 0.0221 - accuracy: 0.9935 - auc: 0.9991 - val_loss: 0.0350 - val_accuracy: 0.9902 - val_auc: 0.9982\n",
      "Epoch 10/20\n",
      "449/450 [============================>.] - ETA: 0s - loss: 0.0200 - accuracy: 0.9942 - auc: 0.9992\n",
      "Epoch 00010: val_accuracy did not improve from 0.99391\n",
      "450/450 [==============================] - 108s 240ms/step - loss: 0.0200 - accuracy: 0.9942 - auc: 0.9992 - val_loss: 0.0274 - val_accuracy: 0.9922 - val_auc: 0.9987\n",
      "Epoch 11/20\n",
      "449/450 [============================>.] - ETA: 0s - loss: 0.0177 - accuracy: 0.9947 - auc: 0.9993\n",
      "Epoch 00011: val_accuracy did not improve from 0.99391\n",
      "450/450 [==============================] - 114s 254ms/step - loss: 0.0177 - accuracy: 0.9947 - auc: 0.9993 - val_loss: 0.0297 - val_accuracy: 0.9919 - val_auc: 0.9984\n",
      "Epoch 12/20\n",
      "449/450 [============================>.] - ETA: 0s - loss: 0.0181 - accuracy: 0.9945 - auc: 0.9993\n",
      "Epoch 00012: val_accuracy did not improve from 0.99391\n",
      "450/450 [==============================] - 108s 240ms/step - loss: 0.0181 - accuracy: 0.9945 - auc: 0.9993 - val_loss: 0.0272 - val_accuracy: 0.9926 - val_auc: 0.9985\n",
      "Epoch 13/20\n",
      "450/450 [==============================] - ETA: 0s - loss: 0.0167 - accuracy: 0.9951 - auc: 0.9994\n",
      "Epoch 00013: val_accuracy did not improve from 0.99391\n",
      "450/450 [==============================] - 109s 243ms/step - loss: 0.0167 - accuracy: 0.9951 - auc: 0.9994 - val_loss: 0.0305 - val_accuracy: 0.9918 - val_auc: 0.9982\n",
      "Epoch 14/20\n",
      "450/450 [==============================] - ETA: 0s - loss: 0.0151 - accuracy: 0.9954 - auc: 0.9994\n",
      "Epoch 00014: val_accuracy did not improve from 0.99391\n",
      "450/450 [==============================] - 106s 236ms/step - loss: 0.0151 - accuracy: 0.9954 - auc: 0.9994 - val_loss: 0.0327 - val_accuracy: 0.9913 - val_auc: 0.9981\n",
      "Epoch 15/20\n",
      "450/450 [==============================] - ETA: 0s - loss: 0.0142 - accuracy: 0.9955 - auc: 0.9995\n",
      "Epoch 00015: val_accuracy did not improve from 0.99391\n",
      "450/450 [==============================] - 106s 235ms/step - loss: 0.0142 - accuracy: 0.9955 - auc: 0.9995 - val_loss: 0.0270 - val_accuracy: 0.9934 - val_auc: 0.9981\n",
      "Epoch 16/20\n",
      "450/450 [==============================] - ETA: 0s - loss: 0.0137 - accuracy: 0.9960 - auc: 0.9995\n",
      "Epoch 00016: val_accuracy did not improve from 0.99391\n",
      "450/450 [==============================] - 105s 234ms/step - loss: 0.0137 - accuracy: 0.9960 - auc: 0.9995 - val_loss: 0.0279 - val_accuracy: 0.9934 - val_auc: 0.9982\n",
      "Epoch 17/20\n",
      "450/450 [==============================] - ETA: 0s - loss: 0.0135 - accuracy: 0.9961 - auc: 0.9994\n",
      "Epoch 00017: val_accuracy did not improve from 0.99391\n",
      "450/450 [==============================] - 110s 245ms/step - loss: 0.0135 - accuracy: 0.9961 - auc: 0.9994 - val_loss: 0.0261 - val_accuracy: 0.9933 - val_auc: 0.9985\n",
      "Epoch 18/20\n",
      "449/450 [============================>.] - ETA: 0s - loss: 0.0120 - accuracy: 0.9964 - auc: 0.9995\n",
      "Epoch 00018: val_accuracy did not improve from 0.99391\n",
      "450/450 [==============================] - 115s 256ms/step - loss: 0.0120 - accuracy: 0.9964 - auc: 0.9995 - val_loss: 0.0248 - val_accuracy: 0.9939 - val_auc: 0.9985\n",
      "Epoch 19/20\n",
      "449/450 [============================>.] - ETA: 0s - loss: 0.0125 - accuracy: 0.9962 - auc: 0.9996\n",
      "Epoch 00019: val_accuracy did not improve from 0.99391\n",
      "450/450 [==============================] - 116s 257ms/step - loss: 0.0125 - accuracy: 0.9962 - auc: 0.9996 - val_loss: 0.0283 - val_accuracy: 0.9933 - val_auc: 0.9981\n",
      "Epoch 20/20\n",
      "450/450 [==============================] - ETA: 0s - loss: 0.0115 - accuracy: 0.9967 - auc: 0.9996\n",
      "Epoch 00020: val_accuracy improved from 0.99391 to 0.99416, saving model to model_acc_videoSeq.hdf5\n",
      "450/450 [==============================] - 113s 251ms/step - loss: 0.0115 - accuracy: 0.9967 - auc: 0.9996 - val_loss: 0.0234 - val_accuracy: 0.9942 - val_auc: 0.9986\n"
     ]
    }
   ],
   "source": [
    "history = model.fit(train_ds, epochs= epochs, validation_data=validation_ds, callbacks=[checkpointer])"
   ]
  },
  {
   "cell_type": "code",
   "execution_count": 50,
   "metadata": {},
   "outputs": [
    {
     "data": {
      "image/png": "[encoded data removed]",
      "text/plain": [
       "<Figure size 2160x360 with 2 Axes>"
      ]
     },
     "metadata": {
      "needs_background": "light"
     },
     "output_type": "display_data"
    }
   ],
   "source": [
    "#vizualise\n",
    "acc = history.history['accuracy']\n",
    "val_acc = history.history['val_accuracy']\n",
    "\n",
    "loss = history.history['loss']\n",
    "val_loss = history.history['val_loss']\n",
    "epochs = 20\n",
    "epochs_range = range(epochs)\n",
    "\n",
    "plt.figure(figsize=(30, 5))\n",
    "plt.subplot(1, 2, 1)\n",
    "plt.plot(epochs_range, acc, label='Training Accuracy')\n",
    "plt.plot(epochs_range, val_acc, label='Validation Accuracy')\n",
    "plt.legend(loc='lower right')\n",
    "plt.title('Training and Validation Accuracy')\n",
    "\n",
    "plt.subplot(1, 2, 2)\n",
    "plt.plot(epochs_range, loss, label='Training Loss')\n",
    "plt.plot(epochs_range, val_loss, label='Validation Loss')\n",
    "plt.legend(loc='upper right')\n",
    "plt.title('Training and Validation Loss')\n",
    "plt.show()"
   ]
  },
  {
   "cell_type": "markdown",
   "metadata": {},
   "source": [
    "# Test the model with faces and backs of the last 3 video seqs "
   ]
  },
  {
   "cell_type": "code",
   "execution_count": 51,
   "metadata": {},
   "outputs": [
    {
     "name": "stdout",
     "output_type": "stream",
     "text": [
      "Found 10604 files belonging to 2 classes.\n"
     ]
    }
   ],
   "source": [
    "test_ds = preprocessing.image_dataset_from_directory(\n",
    "    directory = './TestAVDIAR/',\n",
    "    labels=\"inferred\",\n",
    "    label_mode='categorical',    \n",
    "    color_mode=\"rgb\",\n",
    "    class_names = ['background', \"faces\"],\n",
    "    image_size=(height, width),\n",
    "    shuffle=False,\n",
    ")\n",
    "    "
   ]
  },
  {
   "cell_type": "code",
   "execution_count": 52,
   "metadata": {},
   "outputs": [
    {
     "name": "stdout",
     "output_type": "stream",
     "text": [
      "332/332 [==============================] - 71s 213ms/step - loss: 0.6831 - accuracy: 0.8228 - auc: 0.8981\n"
     ]
    }
   ],
   "source": [
    "score = model.evaluate(test_ds)"
   ]
  },
  {
   "cell_type": "code",
   "execution_count": 55,
   "metadata": {},
   "outputs": [],
   "source": [
    "files_img = glob.glob('./TestAVDIAR/*/*')\n",
    "\n",
    "\n",
    "dict_class = {'faces':1, 'background': 0}\n",
    "\n",
    "y=[]\n",
    "y_pred = []\n",
    "\n",
    "for i,img_file in enumerate(files_img):\n",
    "    img = keras.preprocessing.image.load_img( img_file, target_size=(height, width))\n",
    "    img_array = keras.preprocessing.image.img_to_array(img)\n",
    "    img_array = tf.expand_dims(img_array, 0) # Create a batch\n",
    "\n",
    "    predictions = model.predict(img_array)\n",
    "   \n",
    "    score_eval = tf.nn.softmax(predictions[0])\n",
    "    y_pred.append( np.argmax(score_eval))\n",
    "   \n",
    "    y.append(dict_class.get(img_file.split(\"\\\\\")[-2]))\n",
    "    \n",
    "\n"
   ]
  },
  {
   "cell_type": "code",
   "execution_count": 56,
   "metadata": {},
   "outputs": [
    {
     "name": "stdout",
     "output_type": "stream",
     "text": [
      "accuracy is 0.822802722454071\n",
      "f1 is 0.8024166480196913\n",
      "recall is 0.6763485477178424\n",
      "precision is 0.9862486248624862\n",
      "AUC is 0.8980542421340942\n"
     ]
    }
   ],
   "source": [
    "print(\"accuracy is \"+str(score[1]))\n",
    "print(\"f1 is \"+str(f1_score(y,y_pred)))\n",
    "print(\"recall is \"+str(recall_score(y,y_pred)))\n",
    "print(\"precision is \"+str(precision_score(y,y_pred)))\n",
    "print(\"AUC is \"+str(score[2]))"
   ]
  },
  {
   "cell_type": "markdown",
   "metadata": {},
   "source": [
    "# Test the model MLP trained using FDDB Dataset "
   ]
  },
  {
   "cell_type": "code",
   "execution_count": 57,
   "metadata": {},
   "outputs": [],
   "source": [
    "model.load_weights(\"model_acc.hdf5\")"
   ]
  },
  {
   "cell_type": "code",
   "execution_count": 58,
   "metadata": {},
   "outputs": [
    {
     "name": "stdout",
     "output_type": "stream",
     "text": [
      "332/332 [==============================] - 9s 26ms/step - loss: 0.2804 - accuracy: 0.8367 - auc: 0.9486\n"
     ]
    }
   ],
   "source": [
    "score = model.evaluate(test_ds)"
   ]
  },
  {
   "cell_type": "code",
   "execution_count": 59,
   "metadata": {},
   "outputs": [],
   "source": [
    "files_img = glob.glob('./TestAVDIAR/*/*')\n",
    "\n",
    "\n",
    "dict_class = {'faces':1, 'background': 0}\n",
    "\n",
    "y=[]\n",
    "y_pred = []\n",
    "\n",
    "for i,img_file in enumerate(files_img):\n",
    "    img = keras.preprocessing.image.load_img( img_file, target_size=(height, width))\n",
    "    img_array = keras.preprocessing.image.img_to_array(img)\n",
    "    img_array = tf.expand_dims(img_array, 0) # Create a batch\n",
    "\n",
    "    predictions = model.predict(img_array)\n",
    "   \n",
    "    score_eval = tf.nn.softmax(predictions[0])\n",
    "    y_pred.append( np.argmax(score_eval))\n",
    "   \n",
    "    y.append(dict_class.get(img_file.split(\"\\\\\")[-2]))\n",
    "    \n",
    "\n"
   ]
  },
  {
   "cell_type": "code",
   "execution_count": 60,
   "metadata": {},
   "outputs": [
    {
     "name": "stdout",
     "output_type": "stream",
     "text": [
      "accuracy is 0.8366653919219971\n",
      "f1 is 0.8254633715798765\n",
      "recall is 0.7055827989437948\n",
      "precision is 0.9944178628389154\n",
      "AUC is 0.9485942125320435\n"
     ]
    }
   ],
   "source": [
    "print(\"accuracy is \"+str(score[1]))\n",
    "print(\"f1 is \"+str(f1_score(y,y_pred)))\n",
    "print(\"recall is \"+str(recall_score(y,y_pred)))\n",
    "print(\"precision is \"+str(precision_score(y,y_pred)))\n",
    "print(\"AUC is \"+str(score[2]))"
   ]
  },
  {
   "cell_type": "markdown",
   "metadata": {},
   "source": [
    "# 3. Build face detection and tracking"
   ]
  },
  {
   "cell_type": "markdown",
   "metadata": {},
   "source": [
    "# 3.1 Build Viola Jones detector and tracker "
   ]
  },
  {
   "cell_type": "code",
   "execution_count": 25,
   "metadata": {},
   "outputs": [],
   "source": [
    "def face_detection_violaJones(video_seq, scaleFact = 1.1, size = 30):\n",
    "    # Create a VideoCapture object\n",
    "    cap = cv2.VideoCapture(video_seq)\n",
    " \n",
    "    \n",
    "    faceCascPath = \".\\haarcascades\\haarcascade_frontalface_default.xml\"    \n",
    "    faceCascade = cv2.CascadeClassifier(faceCascPath)\n",
    "    \n",
    "    profileCascPath =  \".\\haarcascades\\haarcascade_profileface.xml\"\n",
    "    profileCascade = cv2.CascadeClassifier(profileCascPath)\n",
    "\n",
    "    \n",
    "    with open(folder+'\\Detection\\\\face_bb_Cascade.txt', 'w') as results:  \n",
    "        \n",
    "        cpt = 0\n",
    "        \n",
    "        while(cap.isOpened()):\n",
    "\n",
    "            ret, frame = cap.read()\n",
    "\n",
    "            if ret : \n",
    "\n",
    "                gray = cv2.cvtColor(frame, cv2.COLOR_BGR2GRAY)\n",
    "                gray = cv2.GaussianBlur(gray, (3, 3), 0)\n",
    "\n",
    "\n",
    "                faces = faceCascade.detectMultiScale(\n",
    "                    gray,\n",
    "                    scaleFactor= scaleFact,\n",
    "                    minNeighbors=5,\n",
    "                    minSize=(size, size),\n",
    "\n",
    "                )\n",
    "\n",
    "                profiles = profileCascade.detectMultiScale(\n",
    "                    gray,\n",
    "                    scaleFactor= scaleFact,\n",
    "                    minNeighbors=5,\n",
    "                    minSize=(size, size),\n",
    "\n",
    "                )\n",
    "                    \n",
    "                number_faces = 0\n",
    "\n",
    "                # Draw a rectangle around the faces\n",
    "                for (x, y, w, h) in faces:\n",
    "                    #cv2.rectangle(frame, (x, y), (x+w, y+h),(0,0, 255), 2)\n",
    "                    results.write(str(cpt)+\",\"+str(number_faces)+','+str(x)+','+str(y)+','+str(w)+','+str(h)+'\\n')\n",
    "                    number_faces+=1\n",
    "\n",
    "                \n",
    "            \n",
    "                for (x, y, w, h) in profiles:\n",
    "                    #cv2.rectangle(frame, (x, y), (x+w, y+h),(255,0, 0), 2)\n",
    "                    results.write(str(cpt)+\",\"+str(number_faces)+','+str(x)+','+str(y)+','+str(w)+','+str(h)+'\\n')\n",
    "                    number_faces+=1\n",
    "\n",
    "                cpt += 1\n",
    "                \n",
    "\n",
    "\n",
    "                # Display the resulting frame\n",
    "                #cv2.imshow('Video', frame)\n",
    "\n",
    "                #if cv2.waitKey(1) & 0xFF == ord('q'):\n",
    "                    #break\n",
    "\n",
    "\n",
    "            else:\n",
    "                break\n",
    "\n",
    "        # Close down the video stream\n",
    "    cap.release()\n",
    "    cv2.destroyAllWindows()\n",
    " \n"
   ]
  },
  {
   "cell_type": "markdown",
   "metadata": {},
   "source": [
    "# 3.2 Build DNN face detector and tracker"
   ]
  },
  {
   "cell_type": "code",
   "execution_count": 23,
   "metadata": {},
   "outputs": [],
   "source": [
    "height = 32\n",
    "width = 32\n",
    "\n",
    "#Caffe model uses Single Shot-Multibox Detector (SSD) and uses ResNet-10 architecture as its backbone\n",
    "\n",
    "def face_detection_caffe(folder, video_seq):\n",
    "    \n",
    "    # Create a VideoCapture object\n",
    "    cap = cv2.VideoCapture(video_seq)\n",
    " \n",
    "    \n",
    "    modelFile = \"CaffeModel/res10_300x300_ssd_iter_140000.caffemodel\"\n",
    "    configFile = \"CaffeModel/deploy.prototxt.txt\"\n",
    "    net = cv2.dnn.readNetFromCaffe(configFile, modelFile)\n",
    "\n",
    "        \n",
    "    with open(folder+'\\Detection\\\\face_bb_Caffe.txt', 'w') as results:  \n",
    "        \n",
    "        cpt = 0\n",
    "        \n",
    "        while(cap.isOpened()):\n",
    "\n",
    "            ret, frame = cap.read()\n",
    "\n",
    "            if ret : \n",
    "                \n",
    "                h, w = frame.shape[:2]\n",
    "                blob = cv2.dnn.blobFromImage(frame, 1.0, (frame.shape[1],frame.shape[0]))\n",
    "\n",
    "                net.setInput(blob)\n",
    "                faces = net.forward()\n",
    "\n",
    "                number_faces = 0\n",
    "\n",
    "                #to draw faces on image\n",
    "                for i in range(faces.shape[2]):\n",
    "\n",
    "                        confidence = faces[0, 0, i, 2]\n",
    "\n",
    "                        if confidence > 0.5:\n",
    "\n",
    "                            number_faces += 1\n",
    "\n",
    "                            box = faces[0, 0, i, 3:7] * np.array([w, h, w, h])\n",
    "                            (x, y, x1, y1) = box.astype(\"int\")\n",
    "\n",
    "                            #cv2.rectangle(frame, (x, y), (x1, y1), (255,0, 0), 2)\n",
    "\n",
    "                            results.write(str(cpt)+\",\"+str(number_faces)+','+str(x)+','+str(y)+','+str(x1-x)+','+str(y1-y)+'\\n')  \n",
    "\n",
    "                cpt += 1\n",
    "                \n",
    "\n",
    "                # Display the resulting frame\n",
    "                #cv2.imshow('Video', frame)\n",
    "\n",
    "                #if cv2.waitKey(1) & 0xFF == ord('q'):\n",
    "                    #break\n",
    "\n",
    "\n",
    "            else:\n",
    "                break\n",
    "\n",
    "            # Close down the video stream\n",
    "    cap.release()\n",
    "    cv2.destroyAllWindows()  \n"
   ]
  },
  {
   "cell_type": "code",
   "execution_count": 24,
   "metadata": {},
   "outputs": [],
   "source": [
    "folders = glob.glob(\".\\AVDIAR_ALL\\*\")\n",
    "\n",
    "for folder in folders:\n",
    "\n",
    "    video_seq = glob.glob(folder+\"\\Video\\*1.mp4\")  \n",
    "\n",
    "    face_detection_caffe(folder, video_seq[0])"
   ]
  },
  {
   "cell_type": "code",
   "execution_count": 64,
   "metadata": {},
   "outputs": [],
   "source": [
    "#Test dnn algo with webcam\n",
    "#face_detection_caffe(0)"
   ]
  },
  {
   "cell_type": "code",
   "execution_count": 80,
   "metadata": {},
   "outputs": [
    {
     "name": "stdout",
     "output_type": "stream",
     "text": [
      "f1 is 0.11105450840550177\n",
      "recall is 0.05879180151024811\n",
      "precision is 1.0\n"
     ]
    }
   ],
   "source": [
    "#results using MLP model after retraining\n",
    "print(\"f1 is \"+str(f1_score(label_gt,label_pred)))\n",
    "print(\"recall is \"+str(recall_score(label_gt,label_pred)))\n",
    "print(\"precision is \"+str(precision_score(label_gt,label_pred)))\n"
   ]
  },
  {
   "cell_type": "code",
   "execution_count": null,
   "metadata": {},
   "outputs": [],
   "source": [
    "#results using MLP model obtained in the last lab"
   ]
  },
  {
   "cell_type": "code",
   "execution_count": 83,
   "metadata": {},
   "outputs": [
    {
     "name": "stdout",
     "output_type": "stream",
     "text": [
      "f1 is 0.0717628705148206\n",
      "recall is 0.0372168284789644\n",
      "precision is 1.0\n"
     ]
    }
   ],
   "source": [
    "#results using MLP model \n",
    "print(\"f1 is \"+str(f1_score(label_gt,label_pred)))\n",
    "print(\"recall is \"+str(recall_score(label_gt,label_pred)))\n",
    "print(\"precision is \"+str(precision_score(label_gt,label_pred)))\n"
   ]
  },
  {
   "cell_type": "markdown",
   "metadata": {},
   "source": [
    "# Evaluation of Caffe and Haar Cascade model in terms of:\n",
    "\n",
    "# Precision, Recall, Number of missed faces, Number of New BB"
   ]
  },
  {
   "cell_type": "code",
   "execution_count": 297,
   "metadata": {},
   "outputs": [],
   "source": [
    "def evaluation_detection_tech(folder, video_seq,  file_name, y_pred, y_gt, lack_faces, new_faces, iou_threshold):\n",
    "\n",
    "    cap = cv2.VideoCapture(video_seq)\n",
    "    \n",
    "    with open(folder+'\\GroundTruth\\\\face_bb.txt','r') as file, open(folder+'\\Detection\\\\'+file_name+'.txt', 'r') as results:\n",
    "        \n",
    "        line = file.readline().strip(\"\\n\")\n",
    "        frame_info =  [int(float(i)) for i in line.split(\",\")[:6]]\n",
    "        \n",
    "        line_res = results.readline().strip(\"\\n\")\n",
    "        frame_info_res =  [int(float(i)) for i in line_res.split(\",\")]\n",
    "        \n",
    "        cpt = 0\n",
    "\n",
    "        while(cap.isOpened()):\n",
    "\n",
    "            ret, frame = cap.read()\n",
    "\n",
    "            if ret :              \n",
    "                \n",
    "                faces_gt = []\n",
    "                while frame_info[0] == cpt  : \n",
    "\n",
    "                    top, left  = (frame_info[2], frame_info[3])\n",
    "                    bottom, right = (top + frame_info[4], left + frame_info[5])\n",
    "                    \n",
    "                    cv2.rectangle(frame, (top, left), (bottom, right), (255,0, 0), 2)\n",
    "                    \n",
    "                    faces_gt.append((top, left, bottom, right))\n",
    "                    \n",
    "                    line = file.readline().strip(\"\\n\")\n",
    "                    \n",
    "\n",
    "                    if not line: \n",
    "                        break\n",
    "\n",
    "                    frame_info =  [int(float(i)) for i in line.split(\",\")[:6]]\n",
    "                    \n",
    "                   \n",
    "                faces_pred = []\n",
    "                while frame_info_res[0] == cpt:\n",
    "                  \n",
    "                    top_r, left_r  = (frame_info_res[2], frame_info_res[3])\n",
    "                    bottom_r, right_r = (top_r + frame_info_res[4], left_r + frame_info_res[5])\n",
    "                    \n",
    "                    cv2.rectangle(frame, (top_r, left_r), (bottom_r, right_r), (0,255, 0), 2)\n",
    "                    \n",
    "                    faces_pred.append((top_r, left_r, bottom_r, right_r))\n",
    "                    \n",
    "                    line_res = results.readline().strip(\"\\n\")\n",
    "\n",
    "                    if not line_res: \n",
    "                        break\n",
    "\n",
    "                    frame_info_res =  [int(float(i)) for i in line_res.split(\",\")]\n",
    "\n",
    "                cpt += 1\n",
    "\n",
    "                gotpos= 0\n",
    "                gotneg =0\n",
    "                for ind, face_pred in enumerate(faces_pred):\n",
    "                    \n",
    "                    iou = -1     \n",
    "                    \n",
    "                    for face_gt in faces_gt:                        \n",
    "                        iou = max(intersection_over_union(face_pred, face_gt), iou) \n",
    "                    \n",
    "                    if iou > iou_threshold : \n",
    "                        y_pred.append(1)\n",
    "                        gotpos+=1\n",
    "                    elif iou > 0:\n",
    "                        y_pred.append(0)\n",
    "                        gotneg+=1\n",
    "                                                                \n",
    "                    \n",
    "                    #cv2.putText(frame,'iou {:.2f}'.format(iou), (50+200*ind, 50),cv2.FONT_HERSHEY_SIMPLEX, 1, (0, 255, 255), 2, cv2.LINE_4) \n",
    "          \n",
    "                new_f = max(len(faces_pred)-gotpos, 0)\n",
    "                lack_f =  max(len(faces_gt) - (len(faces_pred)-new_f), 0)                \n",
    "                      \n",
    "                lack_faces += lack_f  \n",
    "                new_faces += new_f\n",
    "                                  \n",
    "                y_pred.extend([0]*new_f)\n",
    "                y_gt.extend([1]*(new_f+gotpos+gotneg))\n",
    "        \n",
    "  \n",
    "                #cv2.putText(frame,'new_f {:.2f}'.format(new_f), (50, 100),cv2.FONT_HERSHEY_SIMPLEX, 1, (0, 255, 255), 2, cv2.LINE_4) \n",
    "                #cv2.putText(frame,'lack_f {:.2f}'.format(lack_f), (50, 150),cv2.FONT_HERSHEY_SIMPLEX, 1, (0, 255, 255), 2, cv2.LINE_4) \n",
    "                  \n",
    "   \n",
    "                # Display the resulting frame\n",
    "                #cv2.imshow('Video', frame)\n",
    "\n",
    "                #if cv2.waitKey(500) & 0xFF == ord('q'):\n",
    "                        #break\n",
    "\n",
    "\n",
    "            else:\n",
    "                break\n",
    "\n",
    "    # Close down the video stream\n",
    "    cap.release()\n",
    "    cv2.destroyAllWindows()  \n",
    "        \n",
    "                    \n",
    "    return y_pred, y_gt, lack_faces, new_faces\n",
    "\n"
   ]
  },
  {
   "cell_type": "code",
   "execution_count": 298,
   "metadata": {},
   "outputs": [
    {
     "name": "stdout",
     "output_type": "stream",
     "text": [
      "y  57623  y_pred  57623  lack faces \n",
      " [43, 1, 15, 51, 703, 238, 50, 2704, 2150, 499, 1952, 5799, 1041, 1187, 2396, 1714, 1127, 222, 599, 843, 72, 1450, 484, 0, 128, 0, 0] new_faces \n",
      "  [15, 13, 11, 2, 23, 197, 35, 118, 316, 135, 93, 486, 519, 267, 163, 355, 184, 8, 191, 15, 3, 6, 39, 48, 0, 2, 2]\n"
     ]
    }
   ],
   "source": [
    "folders = glob.glob(\".\\AVDIAR_ALL\\*\")\n",
    "\n",
    "y_pred = []\n",
    "y_gt = []\n",
    "lack_faces_Caffe= [0]*len(folders)\n",
    "new_faces_Caffe = [0]*len(folders)\n",
    "iou_threshold = 0.3\n",
    "\n",
    "for ind, folder in enumerate(folders):\n",
    "\n",
    "    video_seq = glob.glob(folder+\"\\Video\\*1.mp4\")  \n",
    "    y_pred, y_gt, lack_faces_Caffe[ind], new_faces_Caffe[ind] = evaluation_detection_tech(folder, video_seq[0], 'face_bb_Caffe', y_pred, y_gt, lack_faces_Caffe[ind], new_faces_Caffe[ind], iou_threshold )\n",
    "    \n",
    "\n",
    "print('y ', len(y_gt),\" y_pred \" , len(y_pred), ' lack faces \\n', lack_faces_Caffe, 'new_faces \\n ', new_faces_Caffe)"
   ]
  },
  {
   "cell_type": "code",
   "execution_count": 299,
   "metadata": {},
   "outputs": [],
   "source": [
    "metrics = {}"
   ]
  },
  {
   "cell_type": "code",
   "execution_count": 300,
   "metadata": {},
   "outputs": [
    {
     "name": "stdout",
     "output_type": "stream",
     "text": [
      "f1 is 0.9459753610331172\n",
      "recall is 0.8974888499383926\n",
      "precision is 1.0\n"
     ]
    }
   ],
   "source": [
    "\n",
    "print(\"f1 is \"+str(f1_score(y_gt,y_pred)))\n",
    "print(\"recall is \"+str(recall_score(y_gt,y_pred)))\n",
    "print(\"precision is \"+str(precision_score(y_gt,y_pred)))\n",
    "\n",
    "metrics.setdefault(\"precision\", []).append(precision_score(y_gt,y_pred))\n",
    "metrics.setdefault(\"recall\", []).append(recall_score(y_gt,y_pred))\n",
    "metrics.setdefault(\"f1\", []).append(f1_score(y_gt,y_pred))"
   ]
  },
  {
   "cell_type": "code",
   "execution_count": 301,
   "metadata": {},
   "outputs": [
    {
     "name": "stdout",
     "output_type": "stream",
     "text": [
      "y  21835  y_pred  21835  lack faces \n",
      " [171, 51, 255, 195, 1379, 776, 560, 6376, 4792, 1301, 5211, 10978, 2912, 3614, 3349, 2399, 1872, 561, 3094, 3377, 404, 4368, 2613, 721, 758, 0, 0] new_faces \n",
      "  [0, 0, 0, 0, 0, 0, 0, 0, 0, 0, 0, 0, 0, 0, 0, 0, 0, 0, 0, 0, 0, 0, 0, 0, 0, 0, 0]\n"
     ]
    }
   ],
   "source": [
    "y_pred = []\n",
    "y_gt = []\n",
    "lack_faces_Cascade = [0]*len(folders)\n",
    "new_faces_Cascade = [0]*len(folders)\n",
    "iou_threshold = 0.3\n",
    "\n",
    "for ind, folder in enumerate(folders):\n",
    "\n",
    "    video_seq = glob.glob(folder+\"\\Video\\*1.mp4\")  \n",
    "    y_pred, y_gt, lack_faces_Cascade[ind], new_faces[ind] = evaluation_detection_tech(folder, video_seq[0], 'face_bb_Cascade', y_pred, y_gt, lack_faces_Cascade[ind], new_faces_Cascade[ind], iou_threshold )\n",
    "    \n",
    " \n",
    "print('y ', len(y_gt),\" y_pred \" , len(y_pred), ' lack faces \\n', lack_faces_Cascade, 'new_faces \\n ', new_faces_Cascade)"
   ]
  },
  {
   "cell_type": "code",
   "execution_count": 302,
   "metadata": {},
   "outputs": [
    {
     "name": "stdout",
     "output_type": "stream",
     "text": [
      "f1 is 0.8393355481727575\n",
      "recall is 0.723150904511106\n",
      "precision is 1.0\n"
     ]
    }
   ],
   "source": [
    "print(\"f1 is \"+str(f1_score(y_gt,y_pred)))\n",
    "print(\"recall is \"+str(recall_score(y_gt,y_pred)))\n",
    "print(\"precision is \"+str(precision_score(y_gt,y_pred)))\n",
    "\n",
    "metrics.setdefault(\"precision\", []).append(precision_score(y_gt,y_pred))\n",
    "metrics.setdefault(\"recall\", []).append(recall_score(y_gt,y_pred))\n",
    "metrics.setdefault(\"f1\", []).append(f1_score(y_gt,y_pred))\n"
   ]
  },
  {
   "cell_type": "code",
   "execution_count": 303,
   "metadata": {},
   "outputs": [
    {
     "data": {
      "image/png": "[encoded data removed]",
      "text/plain": [
       "<Figure size 432x288 with 1 Axes>"
      ]
     },
     "metadata": {
      "needs_background": "light"
     },
     "output_type": "display_data"
    }
   ],
   "source": [
    "x = range(len(lack_faces_Caffe))\n",
    "\n",
    "plt.plot(x, lack_faces_Caffe, color='blue', label='Caffe')\n",
    "plt.plot(x, lack_faces_Cascade, color='black', label='Cascade')\n",
    "\n",
    "plt.grid(axis='x', color='0.95')\n",
    "plt.legend()\n",
    "plt.title('Number of missed faces in each seq')\n",
    "plt.show()"
   ]
  },
  {
   "cell_type": "code",
   "execution_count": 304,
   "metadata": {},
   "outputs": [
    {
     "data": {
      "image/png": "[encoded data removed]",
      "text/plain": [
       "<Figure size 432x288 with 1 Axes>"
      ]
     },
     "metadata": {
      "needs_background": "light"
     },
     "output_type": "display_data"
    }
   ],
   "source": [
    "x = range(len(new_faces_Caffe))\n",
    "\n",
    "plt.plot(x, new_faces_Caffe, color='blue', label='Caffe')\n",
    "plt.plot(x, new_faces_Cascade, color='black', label='Cascade')\n",
    "\n",
    "plt.grid(axis='x', color='0.95')\n",
    "plt.legend()\n",
    "plt.title('Number of new bounding boxes in each seq: face or back')\n",
    "plt.show()"
   ]
  },
  {
   "cell_type": "code",
   "execution_count": 305,
   "metadata": {},
   "outputs": [
    {
     "data": {
      "image/png": "[encoded data removed]",
      "text/plain": [
       "<Figure size 432x288 with 1 Axes>"
      ]
     },
     "metadata": {
      "needs_background": "light"
     },
     "output_type": "display_data"
    }
   ],
   "source": [
    "\n",
    "labels = [\"Caffe\", \"Cascade\"]\n",
    "x = np.arange(len(labels))  # the label locations\n",
    "\n",
    "width = 0.15  # the width of the bars\n",
    "\n",
    "fig, ax = plt.subplots()\n",
    "\n",
    "for k in range(len(metrics)):\n",
    "    \n",
    "    ax.bar(x + k*width, metrics[list(metrics.keys())[k]], width, label='{}'.format(list(metrics.keys())[k]))\n",
    "    \n",
    "\n",
    "# Add some text for labels, title and custom x-axis tick labels, etc.\n",
    "ax.set_ylabel('values')\n",
    "ax.set_title('metrics')\n",
    "ax.set_xticks(x)\n",
    "ax.set_xticklabels(labels)\n",
    "ax.legend()\n",
    "\n",
    "fig.tight_layout()"
   ]
  },
  {
   "cell_type": "code",
   "execution_count": null,
   "metadata": {},
   "outputs": [],
   "source": [
    "img = cv2.resize(frame[y:y1, x:x1], (height, width)) \n",
    "img_array = keras.preprocessing.image.img_to_array(img)\n",
    "img_array = tf.expand_dims(img_array, 0) # Create a batch\n",
    "\n",
    "predictions = model.predict(img_array)\n",
    "\n",
    "score_eval = tf.nn.softmax(predictions[0])\n",
    "label_pred.append(np.argmax(score_eval))\n",
    "                            \n",
    "iou = 0\n",
    "                            \n",
    "for face_box in face_boxes :                                 \n",
    "    iou = max (intersection_over_union(face_box, (x, y, x1, y1)), iou)\n",
    "\n",
    "    if iou < 0.4 or len(face_boxes) < 0  : \n",
    "        label_gt.append(0)\n",
    "    else:\n",
    "        label_gt.append(1)\n",
    "                                \n",
    "if len(faces) < 0 and len(face_boxes)  > 0:\n",
    "    lack_faces+=1\n",
    "    \n",
    "#font = cv2.FONT_HERSHEY_SIMPLEX \n",
    "#cv2.putText(frame,'iou {:.2f}'.format(iou)+' predict '+str(pred), (50, 50+50*i),font, 1, (0, 255, 255), 2, cv2.LINE_4) \n",
    "                    "
   ]
  },
  {
   "cell_type": "code",
   "execution_count": 307,
   "metadata": {},
   "outputs": [],
   "source": [
    "import dlib\n",
    "import face_recognition"
   ]
  },
  {
   "cell_type": "code",
   "execution_count": null,
   "metadata": {},
   "outputs": [],
   "source": []
  }
 ],
 "metadata": {
  "kernelspec": {
   "display_name": "Python 3",
   "language": "python",
   "name": "python3"
  },
  "language_info": {
   "codemirror_mode": {
    "name": "ipython",
    "version": 3
   },
   "file_extension": ".py",
   "mimetype": "text/x-python",
   "name": "python",
   "nbconvert_exporter": "python",
   "pygments_lexer": "ipython3",
   "version": "3.7.3"
  }
 },
 "nbformat": 4,
 "nbformat_minor": 2
}
